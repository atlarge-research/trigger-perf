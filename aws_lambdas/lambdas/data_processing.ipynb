{
 "cells": [
  {
   "cell_type": "code",
   "execution_count": 4,
   "metadata": {},
   "outputs": [
    {
     "name": "stderr",
     "output_type": "stream",
     "text": [
      "/tmp/ipykernel_95727/748694261.py:2: DeprecationWarning: \n",
      "Pyarrow will become a required dependency of pandas in the next major release of pandas (pandas 3.0),\n",
      "(to allow more performant data types, such as the Arrow string type, and better interoperability with other libraries)\n",
      "but was not found to be installed on your system.\n",
      "If this would cause problems for you,\n",
      "please provide us feedback at https://github.com/pandas-dev/pandas/issues/54466\n",
      "        \n",
      "  import pandas as pd\n"
     ]
    }
   ],
   "source": [
    "import json\n",
    "import pandas as pd"
   ]
  },
  {
   "cell_type": "code",
   "execution_count": null,
   "metadata": {},
   "outputs": [],
   "source": [
    "# Etcd latency generation block\n",
    "def parse_log_data(log_file):\n",
    "    with open(log_file, 'r') as f:\n",
    "        json_data = [json.loads(line) for line in f if line.strip()]\n",
    "    return json_data\n",
    "\n",
    "def etcd_data_proc(log_file):\n",
    "    log_data = parse_log_data(log_file)\n",
    "    df = pd.DataFrame(log_data)\n",
    "    unique_ksizes = df['KeySize'].unique().tolist()\n",
    "    print(unique_ksizes)\n",
    "    put_events = df[df['Event'] == 'PUT']\n",
    "    trigger_events = df[df['Event'] == 'TRIGGER']\n",
    "    # print(put_events)\n",
    "    \n",
    "    res = {}\n",
    "    for ksize in unique_ksizes:\n",
    "        put_events = df[(df['Event'] == 'PUT') & (df['KeySize'] == ksize)]\n",
    "        trigger_events = df[(df['Event'] == 'TRIGGER') & (df['KeySize'] == ksize)]\n",
    "        \n",
    "        put_events = put_events.set_index(['Key', 'KeyVersion'])\n",
    "        # print(put_events)\n",
    "        trigger_events = trigger_events.set_index(['Key', 'KeyVersion'])\n",
    "        merged_events = put_events.join(trigger_events, lsuffix='_PUT', rsuffix='_TRIGGER', how='inner')\n",
    "        # print(merged_events)\n",
    "        merged_events['Timestamp_Difference'] = 1000*(merged_events['time_stamp_TRIGGER'] - merged_events['time_stamp_PUT'])\n",
    "        \n",
    "        res[ksize] = merged_events['Timestamp_Difference'].tolist()\n",
    "    print(res)\n",
    "    return res\n",
    "\n",
    "latencies_dict = etcd_data_proc('etcd_logging.log')\n"
   ]
  },
  {
   "cell_type": "code",
   "execution_count": null,
   "metadata": {},
   "outputs": [],
   "source": [
    "# Dynamo latency generation block"
   ]
  },
  {
   "cell_type": "code",
   "execution_count": null,
   "metadata": {},
   "outputs": [],
   "source": [
    "# S3 & S3Express latency generation block"
   ]
  },
  {
   "cell_type": "code",
   "execution_count": null,
   "metadata": {},
   "outputs": [],
   "source": [
    "# Combine latency data"
   ]
  },
  {
   "cell_type": "code",
   "execution_count": null,
   "metadata": {},
   "outputs": [],
   "source": [
    "# Graph gen block"
   ]
  }
 ],
 "metadata": {
  "kernelspec": {
   "display_name": "venv",
   "language": "python",
   "name": "python3"
  },
  "language_info": {
   "codemirror_mode": {
    "name": "ipython",
    "version": 3
   },
   "file_extension": ".py",
   "mimetype": "text/x-python",
   "name": "python",
   "nbconvert_exporter": "python",
   "pygments_lexer": "ipython3",
   "version": "3.11.6"
  }
 },
 "nbformat": 4,
 "nbformat_minor": 2
}
